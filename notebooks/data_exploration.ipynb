{
 "cells": [
  {
   "cell_type": "markdown",
   "id": "068f0cac",
   "metadata": {},
   "source": [
    "## ESTUDIO DE COMO PRETENDE LLEGAR LA DATA"
   ]
  },
  {
   "cell_type": "markdown",
   "id": "0f187528",
   "metadata": {},
   "source": [
    "---\n",
    "### DEPENDENCIAS\n",
    "---"
   ]
  },
  {
   "cell_type": "code",
   "execution_count": null,
   "id": "e29fe461",
   "metadata": {},
   "outputs": [],
   "source": [
    "import sys\n",
    "import subprocess\n",
    "import os\n",
    "\n",
    "def instalar_si_no(package, pip_name=None):\n",
    "    try:\n",
    "        __import__(package)\n",
    "    except ImportError:\n",
    "        subprocess.check_call([sys.executable, \"-m\", \"pip\", \"install\", pip_name or package])\n",
    "\n",
    "paquetes = {\n",
    "    \"pandas\": \"pandas\",\n",
    "    \"pyodbc\": \"pyodbc\",\n",
    "    \"pymssql\": \"pymssql\",\n",
    "    \"sqlalchemy\": \"sqlalchemy\",\n",
    "    \"dotenv\": \"python-dotenv\"\n",
    "}\n",
    "\n",
    "for modulo, pip_name in paquetes.items():\n",
    "    instalar_si_no(modulo, pip_name)\n",
    "    \n",
    "import pandas as pd\n",
    "import pyodbc\n",
    "from dotenv import load_dotenv\n",
    "from sqlalchemy import create_engine\n",
    "import urllib"
   ]
  },
  {
   "cell_type": "markdown",
   "id": "c888ce00",
   "metadata": {},
   "source": [
    "---\n",
    "### Cargue de variables de entorno\n",
    "---"
   ]
  },
  {
   "cell_type": "code",
   "execution_count": 56,
   "id": "d4153f38",
   "metadata": {},
   "outputs": [],
   "source": [
    "load_dotenv(override=True)\n",
    "server   = os.getenv(\"SPACEPARTS_SERVER\")\n",
    "database = os.getenv(\"SPACEPARTS_DATABASE\")\n",
    "username = os.getenv(\"SPACEPARTS_USERNAME\")\n",
    "password = os.getenv(\"SPACEPARTS_PASSWORD\")"
   ]
  },
  {
   "cell_type": "markdown",
   "id": "e98ea0a4",
   "metadata": {},
   "source": [
    "---\n",
    "### Definición de funciones\n",
    "---"
   ]
  },
  {
   "cell_type": "code",
   "execution_count": null,
   "id": "e52ab31a",
   "metadata": {},
   "outputs": [],
   "source": [
    "def get_connection(database=\"master\"):\n",
    "    conn_str = (\n",
    "        \"DRIVER={ODBC Driver 18 for SQL Server};\"\n",
    "        f\"SERVER={server};DATABASE={database};\"\n",
    "        f\"UID={username};PWD={password};\"\n",
    "        \"Encrypt=yes;TrustServerCertificate=no;Connection Timeout=30;\"\n",
    "    )\n",
    "    return pyodbc.connect(conn_str)\n",
    "\n",
    "def list_databases():\n",
    "    \"\"\"Mapeamos las bases a las cuales la llamada nos va a pertimir acceder\"\"\"\n",
    "    with get_connection(\"master\") as conn:\n",
    "        cursor = conn.cursor()\n",
    "        cursor.execute(\"SELECT name FROM sys.databases;\")\n",
    "        return [row[0] for row in cursor.fetchall()]\n",
    "\n",
    "def list_tables(database):\n",
    "    \"\"\"Lista todas las tablas en una base de datos\"\"\"\n",
    "    with get_connection(database) as conn:\n",
    "        cursor = conn.cursor()\n",
    "        cursor.execute(\"\"\"\n",
    "            SELECT TABLE_SCHEMA, TABLE_NAME \n",
    "            FROM INFORMATION_SCHEMA.TABLES \n",
    "            WHERE TABLE_TYPE='BASE TABLE'\n",
    "            ORDER BY TABLE_SCHEMA, TABLE_NAME;\n",
    "        \"\"\")\n",
    "        return [f\"{row[0]}.{row[1]}\" for row in cursor.fetchall()]\n",
    "\n",
    "def sample_table(database, table_name, n=5):\n",
    "    \"\"\"Obtiene una muestra de n filas de una tabla\"\"\"\n",
    "    # Nota: Separa esquema y tabla\n",
    "    if \".\" in table_name:\n",
    "        schema, table = table_name.split(\".\", 1)\n",
    "    else:\n",
    "        schema, table = \"dbo\", table_name\n",
    "    \n",
    "    full_name = f\"[{schema}].[{table}]\"\n",
    "    query = f\"SELECT TOP {n} * FROM {full_name};\"\n",
    "    odbc_str = (\n",
    "        f\"DRIVER={{ODBC Driver 18 for SQL Server}};\"\n",
    "        f\"SERVER={server};DATABASE={database};\"\n",
    "        f\"UID={username};PWD={password};\"\n",
    "        \"Encrypt=yes;TrustServerCertificate=no;Connection Timeout=30;\"\n",
    "    )\n",
    "    conn_str = f\"mssql+pyodbc:///?odbc_connect={urllib.parse.quote_plus(odbc_str)}\"\n",
    "    engine = create_engine(conn_str)\n",
    "    \n",
    "    try:\n",
    "        df = pd.read_sql(query, engine)\n",
    "        return df\n",
    "    except Exception as e:\n",
    "        print(f\"No se pudo leer {full_name}: {e}\")\n",
    "        return None"
   ]
  },
  {
   "cell_type": "markdown",
   "id": "fbea9589",
   "metadata": {},
   "source": [
    "---\n",
    "### Resultados de estudio origen de data\n",
    "---"
   ]
  },
  {
   "cell_type": "code",
   "execution_count": 72,
   "id": "2e82c994",
   "metadata": {},
   "outputs": [
    {
     "name": "stdout",
     "output_type": "stream",
     "text": [
      "Database disponibles: ['master', 'SpacePartsCoDW']\n"
     ]
    }
   ],
   "source": [
    "dbs = list_databases()\n",
    "print(\"Database disponibles:\", dbs)"
   ]
  },
  {
   "cell_type": "code",
   "execution_count": 74,
   "id": "ed068328",
   "metadata": {},
   "outputs": [
    {
     "data": {
      "text/plain": [
       "['dbo.sysdac_history_internal', 'dbo.sysdac_instances_internal']"
      ]
     },
     "execution_count": 74,
     "metadata": {},
     "output_type": "execute_result"
    }
   ],
   "source": [
    "tables = list_tables(\"master\")\n",
    "tables"
   ]
  },
  {
   "cell_type": "code",
   "execution_count": 75,
   "id": "ae949bd1",
   "metadata": {},
   "outputs": [
    {
     "data": {
      "text/plain": [
       "['dim.Brands',\n",
       " 'dim.Budget-Rate',\n",
       " 'dim.Customers',\n",
       " 'dim.Employees',\n",
       " 'dim.Exchange-Rate',\n",
       " 'dim.Invoice-DocType',\n",
       " 'dim.Order-DocType',\n",
       " 'dim.Order-Status',\n",
       " 'dim.Products',\n",
       " 'dim.Regions',\n",
       " 'fact.Budget',\n",
       " 'fact.Forecast',\n",
       " 'fact.Invoices',\n",
       " 'fact.Orders']"
      ]
     },
     "execution_count": 75,
     "metadata": {},
     "output_type": "execute_result"
    }
   ],
   "source": [
    "tables = list_tables(\"SpacePartsCoDW\")\n",
    "tables"
   ]
  },
  {
   "cell_type": "markdown",
   "id": "5efa5f99",
   "metadata": {},
   "source": [
    "---\n",
    "### Segun la pagina que documenta la información:\n",
    "---\n",
    "\n",
    "- Invoices: facturación + penalizaciones + devoluciones.\n",
    "- Orders: pedidos de clientes + fechas de entrega.\n",
    "- Budget: metas anuales por cliente/producto/mes.\n",
    "- Forecast: revisiones mensuales del budget."
   ]
  },
  {
   "cell_type": "code",
   "execution_count": 76,
   "id": "b1229c5c",
   "metadata": {},
   "outputs": [
    {
     "data": {
      "text/html": [
       "<div>\n",
       "<style scoped>\n",
       "    .dataframe tbody tr th:only-of-type {\n",
       "        vertical-align: middle;\n",
       "    }\n",
       "\n",
       "    .dataframe tbody tr th {\n",
       "        vertical-align: top;\n",
       "    }\n",
       "\n",
       "    .dataframe thead th {\n",
       "        text-align: right;\n",
       "    }\n",
       "</style>\n",
       "<table border=\"1\" class=\"dataframe\">\n",
       "  <thead>\n",
       "    <tr style=\"text-align: right;\">\n",
       "      <th></th>\n",
       "      <th>Billing Document Type Code</th>\n",
       "      <th>Text</th>\n",
       "      <th>Doc. Type Ordinal</th>\n",
       "      <th>Group</th>\n",
       "      <th>Group Ordinal</th>\n",
       "      <th>DWCreatedDate</th>\n",
       "    </tr>\n",
       "  </thead>\n",
       "  <tbody>\n",
       "    <tr>\n",
       "      <th>0</th>\n",
       "      <td>F2</td>\n",
       "      <td>Normal Invoice</td>\n",
       "      <td>1</td>\n",
       "      <td>Invoice</td>\n",
       "      <td>1</td>\n",
       "      <td>2023-02-10 14:52:08.297</td>\n",
       "    </tr>\n",
       "    <tr>\n",
       "      <th>1</th>\n",
       "      <td>L2</td>\n",
       "      <td>Express Order</td>\n",
       "      <td>2</td>\n",
       "      <td>Invoice</td>\n",
       "      <td>1</td>\n",
       "      <td>2023-02-10 14:52:08.297</td>\n",
       "    </tr>\n",
       "    <tr>\n",
       "      <th>2</th>\n",
       "      <td>YW</td>\n",
       "      <td>Warranty</td>\n",
       "      <td>3</td>\n",
       "      <td>Adjustment</td>\n",
       "      <td>2</td>\n",
       "      <td>2023-02-10 14:52:08.297</td>\n",
       "    </tr>\n",
       "    <tr>\n",
       "      <th>3</th>\n",
       "      <td>YR</td>\n",
       "      <td>Return</td>\n",
       "      <td>4</td>\n",
       "      <td>Adjustment</td>\n",
       "      <td>2</td>\n",
       "      <td>2023-02-10 14:52:08.297</td>\n",
       "    </tr>\n",
       "    <tr>\n",
       "      <th>4</th>\n",
       "      <td>Z2</td>\n",
       "      <td>Other</td>\n",
       "      <td>5</td>\n",
       "      <td>Other</td>\n",
       "      <td>3</td>\n",
       "      <td>2023-02-10 14:52:08.297</td>\n",
       "    </tr>\n",
       "  </tbody>\n",
       "</table>\n",
       "</div>"
      ],
      "text/plain": [
       "  Billing Document Type Code            Text  Doc. Type Ordinal       Group  \\\n",
       "0                         F2  Normal Invoice                  1     Invoice   \n",
       "1                         L2   Express Order                  2     Invoice   \n",
       "2                         YW        Warranty                  3  Adjustment   \n",
       "3                         YR          Return                  4  Adjustment   \n",
       "4                         Z2           Other                  5       Other   \n",
       "\n",
       "   Group Ordinal           DWCreatedDate  \n",
       "0              1 2023-02-10 14:52:08.297  \n",
       "1              1 2023-02-10 14:52:08.297  \n",
       "2              2 2023-02-10 14:52:08.297  \n",
       "3              2 2023-02-10 14:52:08.297  \n",
       "4              3 2023-02-10 14:52:08.297  "
      ]
     },
     "execution_count": 76,
     "metadata": {},
     "output_type": "execute_result"
    }
   ],
   "source": [
    "df_sample = sample_table(\"SpacePartsCoDW\", \"dim.Invoice-DocType\", n=5)\n",
    "df_sample"
   ]
  },
  {
   "cell_type": "markdown",
   "id": "5ad897bd",
   "metadata": {},
   "source": [
    "---\n",
    "### Exploración de la data\n",
    "---"
   ]
  }
 ],
 "metadata": {
  "kernelspec": {
   "display_name": "analitica",
   "language": "python",
   "name": "python3"
  },
  "language_info": {
   "codemirror_mode": {
    "name": "ipython",
    "version": 3
   },
   "file_extension": ".py",
   "mimetype": "text/x-python",
   "name": "python",
   "nbconvert_exporter": "python",
   "pygments_lexer": "ipython3",
   "version": "3.12.4"
  }
 },
 "nbformat": 4,
 "nbformat_minor": 5
}
